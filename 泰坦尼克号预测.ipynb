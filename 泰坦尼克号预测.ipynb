{
 "cells": [
  {
   "cell_type": "code",
   "execution_count": 1,
   "metadata": {},
   "outputs": [],
   "source": [
    "import copy\n",
    "\n",
    "import torch\n",
    "import torch.nn as nn\n",
    "import numpy as np\n",
    "import pandas as pd"
   ]
  },
  {
   "cell_type": "code",
   "execution_count": 3,
   "metadata": {
    "pycharm": {
     "name": "#%%\n"
    }
   },
   "outputs": [],
   "source": [
    "TRAIN_PATH = \"./titanic/train.csv\"\n",
    "TEST_PATH = \"./titanic/test.csv\"\n",
    "SAMPLE_SUBMISSION_PATH = \"./titanic/gender_submission.csv\"\n",
    "SUBMISSION_PATH = \"submission.csv\""
   ]
  },
  {
   "cell_type": "code",
   "execution_count": 4,
   "metadata": {
    "pycharm": {
     "name": "#%%\n"
    }
   },
   "outputs": [],
   "source": [
    "import os\n",
    "from matplotlib import pyplot as plt\n",
    "%matplotlib inline"
   ]
  },
  {
   "cell_type": "code",
   "execution_count": 5,
   "metadata": {
    "pycharm": {
     "name": "#%%\n"
    }
   },
   "outputs": [],
   "source": [
    "ID = 'PassengerId'\n",
    "TARGET = 'Survived'"
   ]
  },
  {
   "cell_type": "code",
   "execution_count": 182,
   "metadata": {
    "pycharm": {
     "name": "#%%\n"
    }
   },
   "outputs": [],
   "source": [
    "# 读取训练集文件，并查看相关信息\n",
    "train_data = pd.read_csv(TRAIN_PATH)"
   ]
  },
  {
   "cell_type": "markdown",
   "metadata": {
    "pycharm": {
     "name": "#%% md\n"
    }
   },
   "source": [
    "# 一、查看文件中的数据，进行数据分析"
   ]
  },
  {
   "cell_type": "code",
   "execution_count": 7,
   "metadata": {
    "pycharm": {
     "name": "#%%\n"
    }
   },
   "outputs": [
    {
     "data": {
      "text/plain": "   PassengerId  Survived  Pclass  \\\n0            1         0       3   \n1            2         1       1   \n2            3         1       3   \n\n                                                Name     Sex   Age  SibSp  \\\n0                            Braund, Mr. Owen Harris    male  22.0      1   \n1  Cumings, Mrs. John Bradley (Florence Briggs Th...  female  38.0      1   \n2                             Heikkinen, Miss. Laina  female  26.0      0   \n\n   Parch            Ticket     Fare Cabin Embarked  \n0      0         A/5 21171   7.2500   NaN        S  \n1      0          PC 17599  71.2833   C85        C  \n2      0  STON/O2. 3101282   7.9250   NaN        S  ",
      "text/html": "<div>\n<style scoped>\n    .dataframe tbody tr th:only-of-type {\n        vertical-align: middle;\n    }\n\n    .dataframe tbody tr th {\n        vertical-align: top;\n    }\n\n    .dataframe thead th {\n        text-align: right;\n    }\n</style>\n<table border=\"1\" class=\"dataframe\">\n  <thead>\n    <tr style=\"text-align: right;\">\n      <th></th>\n      <th>PassengerId</th>\n      <th>Survived</th>\n      <th>Pclass</th>\n      <th>Name</th>\n      <th>Sex</th>\n      <th>Age</th>\n      <th>SibSp</th>\n      <th>Parch</th>\n      <th>Ticket</th>\n      <th>Fare</th>\n      <th>Cabin</th>\n      <th>Embarked</th>\n    </tr>\n  </thead>\n  <tbody>\n    <tr>\n      <th>0</th>\n      <td>1</td>\n      <td>0</td>\n      <td>3</td>\n      <td>Braund, Mr. Owen Harris</td>\n      <td>male</td>\n      <td>22.0</td>\n      <td>1</td>\n      <td>0</td>\n      <td>A/5 21171</td>\n      <td>7.2500</td>\n      <td>NaN</td>\n      <td>S</td>\n    </tr>\n    <tr>\n      <th>1</th>\n      <td>2</td>\n      <td>1</td>\n      <td>1</td>\n      <td>Cumings, Mrs. John Bradley (Florence Briggs Th...</td>\n      <td>female</td>\n      <td>38.0</td>\n      <td>1</td>\n      <td>0</td>\n      <td>PC 17599</td>\n      <td>71.2833</td>\n      <td>C85</td>\n      <td>C</td>\n    </tr>\n    <tr>\n      <th>2</th>\n      <td>3</td>\n      <td>1</td>\n      <td>3</td>\n      <td>Heikkinen, Miss. Laina</td>\n      <td>female</td>\n      <td>26.0</td>\n      <td>0</td>\n      <td>0</td>\n      <td>STON/O2. 3101282</td>\n      <td>7.9250</td>\n      <td>NaN</td>\n      <td>S</td>\n    </tr>\n  </tbody>\n</table>\n</div>"
     },
     "execution_count": 7,
     "metadata": {},
     "output_type": "execute_result"
    }
   ],
   "source": [
    "train_data.head(3)"
   ]
  },
  {
   "cell_type": "code",
   "execution_count": 163,
   "metadata": {
    "pycharm": {
     "name": "#%%\n"
    }
   },
   "outputs": [
    {
     "name": "stdout",
     "output_type": "stream",
     "text": [
      "<class 'pandas.core.frame.DataFrame'>\n",
      "RangeIndex: 891 entries, 0 to 890\n",
      "Data columns (total 12 columns):\n",
      " #   Column       Non-Null Count  Dtype  \n",
      "---  ------       --------------  -----  \n",
      " 0   PassengerId  891 non-null    int64  \n",
      " 1   Survived     891 non-null    int64  \n",
      " 2   Pclass       891 non-null    int64  \n",
      " 3   Name         891 non-null    object \n",
      " 4   Sex          891 non-null    object \n",
      " 5   Age          714 non-null    float64\n",
      " 6   SibSp        891 non-null    int64  \n",
      " 7   Parch        891 non-null    int64  \n",
      " 8   Ticket       891 non-null    object \n",
      " 9   Fare         891 non-null    float64\n",
      " 10  Cabin        204 non-null    object \n",
      " 11  Embarked     889 non-null    object \n",
      "dtypes: float64(2), int64(5), object(5)\n",
      "memory usage: 83.7+ KB\n"
     ]
    }
   ],
   "source": [
    "train_data.info() # 其中Age只有714个数据，缺少了891-714个数据；Cabin仅有204个，Embarked缺少2个数据"
   ]
  },
  {
   "cell_type": "code",
   "execution_count": 183,
   "metadata": {
    "pycharm": {
     "name": "#%%\n"
    }
   },
   "outputs": [],
   "source": [
    "# 其中PassengerId、Name、Ticket与是否生存无关，所以删除掉\n",
    "train_data = train_data.drop(['PassengerId', 'Name', 'Ticket'], axis=1)"
   ]
  },
  {
   "cell_type": "code",
   "execution_count": 96,
   "metadata": {
    "pycharm": {
     "name": "#%%\n"
    }
   },
   "outputs": [
    {
     "data": {
      "text/plain": "   Survived  Pclass     Sex   Age  SibSp  Parch     Fare Cabin Embarked\n0         0       3    male  22.0      1      0   7.2500   NaN        S\n1         1       1  female  38.0      1      0  71.2833   C85        C\n2         1       3  female  26.0      0      0   7.9250   NaN        S",
      "text/html": "<div>\n<style scoped>\n    .dataframe tbody tr th:only-of-type {\n        vertical-align: middle;\n    }\n\n    .dataframe tbody tr th {\n        vertical-align: top;\n    }\n\n    .dataframe thead th {\n        text-align: right;\n    }\n</style>\n<table border=\"1\" class=\"dataframe\">\n  <thead>\n    <tr style=\"text-align: right;\">\n      <th></th>\n      <th>Survived</th>\n      <th>Pclass</th>\n      <th>Sex</th>\n      <th>Age</th>\n      <th>SibSp</th>\n      <th>Parch</th>\n      <th>Fare</th>\n      <th>Cabin</th>\n      <th>Embarked</th>\n    </tr>\n  </thead>\n  <tbody>\n    <tr>\n      <th>0</th>\n      <td>0</td>\n      <td>3</td>\n      <td>male</td>\n      <td>22.0</td>\n      <td>1</td>\n      <td>0</td>\n      <td>7.2500</td>\n      <td>NaN</td>\n      <td>S</td>\n    </tr>\n    <tr>\n      <th>1</th>\n      <td>1</td>\n      <td>1</td>\n      <td>female</td>\n      <td>38.0</td>\n      <td>1</td>\n      <td>0</td>\n      <td>71.2833</td>\n      <td>C85</td>\n      <td>C</td>\n    </tr>\n    <tr>\n      <th>2</th>\n      <td>1</td>\n      <td>3</td>\n      <td>female</td>\n      <td>26.0</td>\n      <td>0</td>\n      <td>0</td>\n      <td>7.9250</td>\n      <td>NaN</td>\n      <td>S</td>\n    </tr>\n  </tbody>\n</table>\n</div>"
     },
     "execution_count": 96,
     "metadata": {},
     "output_type": "execute_result"
    }
   ],
   "source": [
    "train_data.head(3)"
   ]
  },
  {
   "cell_type": "code",
   "execution_count": 97,
   "metadata": {
    "pycharm": {
     "name": "#%%\n"
    }
   },
   "outputs": [
    {
     "name": "stdout",
     "output_type": "stream",
     "text": [
      "<class 'pandas.core.frame.DataFrame'>\n",
      "RangeIndex: 891 entries, 0 to 890\n",
      "Data columns (total 9 columns):\n",
      " #   Column    Non-Null Count  Dtype  \n",
      "---  ------    --------------  -----  \n",
      " 0   Survived  891 non-null    int64  \n",
      " 1   Pclass    891 non-null    int64  \n",
      " 2   Sex       891 non-null    object \n",
      " 3   Age       714 non-null    float64\n",
      " 4   SibSp     891 non-null    int64  \n",
      " 5   Parch     891 non-null    int64  \n",
      " 6   Fare      891 non-null    float64\n",
      " 7   Cabin     204 non-null    object \n",
      " 8   Embarked  889 non-null    object \n",
      "dtypes: float64(2), int64(4), object(3)\n",
      "memory usage: 62.8+ KB\n"
     ]
    }
   ],
   "source": [
    "train_data.info() # 其中Age只有714个数据，缺少了891-714个数据；Cabin仅有204个，Embarked缺少2个数据"
   ]
  },
  {
   "cell_type": "markdown",
   "metadata": {
    "pycharm": {
     "name": "#%% md\n"
    }
   },
   "source": [
    "# Survived（存活基本情况）"
   ]
  },
  {
   "cell_type": "code",
   "execution_count": 12,
   "metadata": {
    "pycharm": {
     "name": "#%%\n"
    }
   },
   "outputs": [
    {
     "name": "stdout",
     "output_type": "stream",
     "text": [
      "生还者总共342人，死亡者总共549人\n"
     ]
    }
   ],
   "source": [
    "# 891人当中，共有多少人生还\n",
    "total_survived_num = train_data['Survived'].sum()\n",
    "total_no_survived_num = 891 - total_survived_num\n",
    "print(f\"生还者总共{total_survived_num}人，死亡者总共{total_no_survived_num}人\")"
   ]
  },
  {
   "cell_type": "code",
   "execution_count": 24,
   "metadata": {
    "pycharm": {
     "name": "#%%\n"
    }
   },
   "outputs": [
    {
     "data": {
      "text/plain": "<Figure size 864x432 with 2 Axes>",
      "image/png": "[encoded data removed]"
     },
     "metadata": {
      "needs_background": "light"
     },
     "output_type": "display_data"
    }
   ],
   "source": [
    "plt.figure(figsize=(12, 6))\n",
    "# 绘制柱状图\n",
    "plt.subplot(1,2, 1)\n",
    "plt.bar([1, 0], [total_survived_num, total_no_survived_num], width=0.5)\n",
    "plt.xticks(ticks=[0, 1])\n",
    "plt.title('Survival Count')\n",
    "plt.xlabel('Survived')\n",
    "plt.ylabel('Count')\n",
    "\n",
    "# 绘制饼状图\n",
    "plt.subplot(1, 2, 2)\n",
    "plt.pie([total_survived_num, total_no_survived_num],\n",
    "        labels=['Survived', 'No Survived'], autopct=\"%.1f%%\")\n",
    "plt.title('Survival Rate')\n",
    "plt.show()"
   ]
  },
  {
   "cell_type": "markdown",
   "metadata": {
    "pycharm": {
     "name": "#%% md\n"
    }
   },
   "source": [
    "**这891名乘客中，生还和未生还的比例分别为38.4%和61.6%。**\n",
    "\n",
    "**下面，分别分析 Pclass、Sex、Age、SibSp、Parch、Fare、Cabin 和 Embarked 等与“生还”的关系**"
   ]
  },
  {
   "cell_type": "markdown",
   "source": [
    "# Pclass（客舱等级）\n",
    "# 不同级别客舱的人数和比例"
   ],
   "metadata": {
    "collapsed": false,
    "pycharm": {
     "name": "#%% md\n"
    }
   }
  },
  {
   "cell_type": "code",
   "execution_count": 56,
   "outputs": [
    {
     "data": {
      "text/plain": "        Survived\nPclass          \n1            216\n2            184\n3            491",
      "text/html": "<div>\n<style scoped>\n    .dataframe tbody tr th:only-of-type {\n        vertical-align: middle;\n    }\n\n    .dataframe tbody tr th {\n        vertical-align: top;\n    }\n\n    .dataframe thead th {\n        text-align: right;\n    }\n</style>\n<table border=\"1\" class=\"dataframe\">\n  <thead>\n    <tr style=\"text-align: right;\">\n      <th></th>\n      <th>Survived</th>\n    </tr>\n    <tr>\n      <th>Pclass</th>\n      <th></th>\n    </tr>\n  </thead>\n  <tbody>\n    <tr>\n      <th>1</th>\n      <td>216</td>\n    </tr>\n    <tr>\n      <th>2</th>\n      <td>184</td>\n    </tr>\n    <tr>\n      <th>3</th>\n      <td>491</td>\n    </tr>\n  </tbody>\n</table>\n</div>"
     },
     "execution_count": 56,
     "metadata": {},
     "output_type": "execute_result"
    }
   ],
   "source": [
    "x = train_data[['Pclass', 'Survived']].groupby(['Pclass']).count()\n",
    "x"
   ],
   "metadata": {
    "collapsed": false,
    "pycharm": {
     "name": "#%%\n"
    }
   }
  },
  {
   "cell_type": "markdown",
   "source": [
    "**可以看到，其中客舱等级分为1、2、3，分别有216人，184人，491人**"
   ],
   "metadata": {
    "collapsed": false,
    "pycharm": {
     "name": "#%% md\n"
    }
   }
  },
  {
   "cell_type": "code",
   "execution_count": 64,
   "outputs": [
    {
     "data": {
      "text/plain": "<Figure size 864x360 with 2 Axes>",
      "image/png": "[encoded data removed]"
     },
     "metadata": {
      "needs_background": "light"
     },
     "output_type": "display_data"
    }
   ],
   "source": [
    "plt.figure(figsize=(12, 5))\n",
    "# 绘制柱状图\n",
    "plt.subplot(1, 2, 1)\n",
    "plt.bar([1, 2, 3], x['Survived'], width=0.5)\n",
    "plt.title('Pclass Person Count')\n",
    "plt.xlabel('Pclass')\n",
    "plt.ylabel('Count')\n",
    "# 绘制饼状图\n",
    "plt.subplot(1, 2, 2)\n",
    "plt.pie(x['Survived'], labels=[1, 2, 3], autopct='%.1f%%')\n",
    "plt.title('Pclass Person Rate')\n",
    "plt.show()"
   ],
   "metadata": {
    "collapsed": false,
    "pycharm": {
     "name": "#%%\n"
    }
   }
  },
  {
   "cell_type": "markdown",
   "source": [
    "**海难发生前，一等舱、二等舱、三等舱的乘客分别为216、184、491人，分别占总人数的 24.2%， 20.7%， 55.1%**"
   ],
   "metadata": {
    "collapsed": false,
    "pycharm": {
     "name": "#%% md\n"
    }
   }
  },
  {
   "cell_type": "markdown",
   "source": [
    "# 不同级别客舱生还人数"
   ],
   "metadata": {
    "collapsed": false,
    "pycharm": {
     "name": "#%% md\n"
    }
   }
  },
  {
   "cell_type": "code",
   "execution_count": 68,
   "outputs": [
    {
     "data": {
      "text/plain": "        Survived\nPclass          \n1            136\n2             87\n3            119",
      "text/html": "<div>\n<style scoped>\n    .dataframe tbody tr th:only-of-type {\n        vertical-align: middle;\n    }\n\n    .dataframe tbody tr th {\n        vertical-align: top;\n    }\n\n    .dataframe thead th {\n        text-align: right;\n    }\n</style>\n<table border=\"1\" class=\"dataframe\">\n  <thead>\n    <tr style=\"text-align: right;\">\n      <th></th>\n      <th>Survived</th>\n    </tr>\n    <tr>\n      <th>Pclass</th>\n      <th></th>\n    </tr>\n  </thead>\n  <tbody>\n    <tr>\n      <th>1</th>\n      <td>136</td>\n    </tr>\n    <tr>\n      <th>2</th>\n      <td>87</td>\n    </tr>\n    <tr>\n      <th>3</th>\n      <td>119</td>\n    </tr>\n  </tbody>\n</table>\n</div>"
     },
     "execution_count": 68,
     "metadata": {},
     "output_type": "execute_result"
    }
   ],
   "source": [
    "x = train_data[train_data['Survived'] == 1]\n",
    "x = x[['Pclass', 'Survived']].groupby('Pclass').count()\n",
    "x"
   ],
   "metadata": {
    "collapsed": false,
    "pycharm": {
     "name": "#%%\n"
    }
   }
  },
  {
   "cell_type": "code",
   "execution_count": 69,
   "outputs": [
    {
     "data": {
      "text/plain": "<Figure size 864x360 with 2 Axes>",
      "image/png": "[encoded data removed]"
     },
     "metadata": {
      "needs_background": "light"
     },
     "output_type": "display_data"
    }
   ],
   "source": [
    "plt.figure(figsize=(12, 5))\n",
    "# 绘制柱状图\n",
    "plt.subplot(1, 2, 1)\n",
    "plt.bar([1, 2, 3], x['Survived'], width=0.5)\n",
    "plt.title('Pclass Person Count')\n",
    "plt.xlabel('Pclass')\n",
    "plt.ylabel('Count')\n",
    "# 绘制饼状图\n",
    "plt.subplot(1, 2, 2)\n",
    "plt.pie(x['Survived'], labels=[1, 2, 3], autopct='%.1f%%')\n",
    "plt.title('Pclass Person Rate')\n",
    "plt.show()"
   ],
   "metadata": {
    "collapsed": false,
    "pycharm": {
     "name": "#%%\n"
    }
   }
  },
  {
   "cell_type": "markdown",
   "source": [
    "**海难发生前，一等舱、二等舱、三等舱的乘客分别为216、184、491人，分别占总人数的 24.2%， 20.7%， 55.1%**\n",
    "**海难发生后，一等舱、二等舱、三等舱的乘客分别为136、87、119人，分别占总人数的 39.8%， 25.4%， 34.8%**\n",
    "**一等舱生还率为 63%，二等舱为 47%，三等舱为 24%。可见客舱等级越高，生还率越高。**"
   ],
   "metadata": {
    "collapsed": false,
    "pycharm": {
     "name": "#%% md\n"
    }
   }
  },
  {
   "cell_type": "markdown",
   "source": [
    "# Sex（性别）\n",
    "# 不同性别人数比例及生还率"
   ],
   "metadata": {
    "collapsed": false,
    "pycharm": {
     "name": "#%% md\n"
    }
   }
  },
  {
   "cell_type": "code",
   "execution_count": 71,
   "outputs": [
    {
     "data": {
      "text/plain": "        Survived\nSex             \nfemale       314\nmale         577",
      "text/html": "<div>\n<style scoped>\n    .dataframe tbody tr th:only-of-type {\n        vertical-align: middle;\n    }\n\n    .dataframe tbody tr th {\n        vertical-align: top;\n    }\n\n    .dataframe thead th {\n        text-align: right;\n    }\n</style>\n<table border=\"1\" class=\"dataframe\">\n  <thead>\n    <tr style=\"text-align: right;\">\n      <th></th>\n      <th>Survived</th>\n    </tr>\n    <tr>\n      <th>Sex</th>\n      <th></th>\n    </tr>\n  </thead>\n  <tbody>\n    <tr>\n      <th>female</th>\n      <td>314</td>\n    </tr>\n    <tr>\n      <th>male</th>\n      <td>577</td>\n    </tr>\n  </tbody>\n</table>\n</div>"
     },
     "execution_count": 71,
     "metadata": {},
     "output_type": "execute_result"
    }
   ],
   "source": [
    "x = train_data[['Sex', 'Survived']].groupby('Sex').count()\n",
    "x"
   ],
   "metadata": {
    "collapsed": false,
    "pycharm": {
     "name": "#%%\n"
    }
   }
  },
  {
   "cell_type": "code",
   "execution_count": 73,
   "outputs": [
    {
     "data": {
      "text/plain": "        Survived\nSex             \nfemale       233\nmale         109",
      "text/html": "<div>\n<style scoped>\n    .dataframe tbody tr th:only-of-type {\n        vertical-align: middle;\n    }\n\n    .dataframe tbody tr th {\n        vertical-align: top;\n    }\n\n    .dataframe thead th {\n        text-align: right;\n    }\n</style>\n<table border=\"1\" class=\"dataframe\">\n  <thead>\n    <tr style=\"text-align: right;\">\n      <th></th>\n      <th>Survived</th>\n    </tr>\n    <tr>\n      <th>Sex</th>\n      <th></th>\n    </tr>\n  </thead>\n  <tbody>\n    <tr>\n      <th>female</th>\n      <td>233</td>\n    </tr>\n    <tr>\n      <th>male</th>\n      <td>109</td>\n    </tr>\n  </tbody>\n</table>\n</div>"
     },
     "execution_count": 73,
     "metadata": {},
     "output_type": "execute_result"
    }
   ],
   "source": [
    "x = train_data[train_data['Survived'] == 1]\n",
    "x = x[['Sex', 'Survived']].groupby('Sex').count()\n",
    "x"
   ],
   "metadata": {
    "collapsed": false,
    "pycharm": {
     "name": "#%%\n"
    }
   }
  },
  {
   "cell_type": "markdown",
   "source": [
    "**海难发生前，男有577人，女有314人，海难发生后，存活的男有109人，存活的女有233人**"
   ],
   "metadata": {
    "collapsed": false,
    "pycharm": {
     "name": "#%% md\n"
    }
   }
  },
  {
   "cell_type": "code",
   "execution_count": 82,
   "outputs": [
    {
     "name": "stdout",
     "output_type": "stream",
     "text": [
      "男生存活率：18.9%，女生存活率：74.2%\n"
     ]
    }
   ],
   "source": [
    "male_survived_rate = 109 / 577\n",
    "female_survived_rate = 233 / 314\n",
    "print(\"男生存活率：%.1f%%，女生存活率：%.1f%%\" %(male_survived_rate*100, female_survived_rate*100))"
   ],
   "metadata": {
    "collapsed": false,
    "pycharm": {
     "name": "#%%\n"
    }
   }
  },
  {
   "cell_type": "markdown",
   "source": [],
   "metadata": {
    "collapsed": false,
    "pycharm": {
     "name": "#%% md\n"
    }
   }
  },
  {
   "cell_type": "markdown",
   "source": [
    "# Age（年龄）\n",
    "# 不同年龄比例及生还率"
   ],
   "metadata": {
    "collapsed": false,
    "pycharm": {
     "name": "#%% md\n"
    }
   }
  },
  {
   "cell_type": "markdown",
   "source": [
    "**由于Age是有缺失值的，所以先处理缺失值问题。填充的年龄为年龄平均值。**"
   ],
   "metadata": {
    "collapsed": false,
    "pycharm": {
     "name": "#%% md\n"
    }
   }
  },
  {
   "cell_type": "code",
   "execution_count": 184,
   "outputs": [
    {
     "name": "stdout",
     "output_type": "stream",
     "text": [
      "缺少的年龄数：177\n",
      "年龄平均值：29.69911764705882\n"
     ]
    }
   ],
   "source": [
    "# 查看缺少的年龄数\n",
    "nan_age_count = train_data['Age'].isnull().sum()\n",
    "print(f\"缺少的年龄数：{nan_age_count}\")\n",
    "# 求年龄平均值\n",
    "avg_age = train_data['Age'].mean()\n",
    "print(f\"年龄平均值：{avg_age}\")\n",
    "# 填充缺失的年龄\n",
    "train_data['Age'] = train_data['Age'].fillna(avg_age)"
   ],
   "metadata": {
    "collapsed": false,
    "pycharm": {
     "name": "#%%\n"
    }
   }
  },
  {
   "cell_type": "code",
   "execution_count": 170,
   "outputs": [
    {
     "data": {
      "text/plain": "count    891.000000\nmean      29.699118\nstd       13.002015\nmin        0.420000\n25%       22.000000\n50%       29.699118\n75%       35.000000\nmax       80.000000\nName: Age, dtype: float64"
     },
     "execution_count": 170,
     "metadata": {},
     "output_type": "execute_result"
    }
   ],
   "source": [
    "train_data['Age'].describe()"
   ],
   "metadata": {
    "collapsed": false,
    "pycharm": {
     "name": "#%%\n"
    }
   }
  },
  {
   "cell_type": "markdown",
   "source": [
    "**此时年龄不缺了，可以查看年龄分布**"
   ],
   "metadata": {
    "collapsed": false,
    "pycharm": {
     "name": "#%% md\n"
    }
   }
  },
  {
   "cell_type": "code",
   "execution_count": 106,
   "outputs": [
    {
     "data": {
      "text/plain": "<Figure size 864x360 with 2 Axes>",
      "image/png": "[encoded data removed]"
     },
     "metadata": {
      "needs_background": "light"
     },
     "output_type": "display_data"
    }
   ],
   "source": [
    "plt.figure(figsize=(12, 5))\n",
    "# 绘制年龄分布图\n",
    "plt.subplot(1, 2, 1)\n",
    "train_data['Age'].hist(bins = 70)\n",
    "plt.xlabel('Age')\n",
    "plt.ylabel('Num')\n",
    "# 绘制年龄分布图\n",
    "plt.subplot(1, 2, 2)\n",
    "train_data.boxplot(column='Age', showfliers=False)\n",
    "plt.show()"
   ],
   "metadata": {
    "collapsed": false,
    "pycharm": {
     "name": "#%%\n"
    }
   }
  },
  {
   "cell_type": "markdown",
   "source": [
    "**样本的891人中，平均年龄约为30岁，标准差为13岁，最小年龄0.42岁，最大年龄80岁**\n",
    "## 按照年龄，将乘客划分为儿童，少年，成年人，老年人，分析四个群体的生还情况"
   ],
   "metadata": {
    "collapsed": false,
    "pycharm": {
     "name": "#%% md\n"
    }
   }
  },
  {
   "cell_type": "code",
   "execution_count": 125,
   "outputs": [],
   "source": [
    "children_df = train_data[train_data['Age'] <= 12]\n",
    "juvenile_df = train_data[(train_data['Age'] > 12) & (train_data['Age'] < 18)]\n",
    "adults_df = train_data[(train_data['Age'] >= 18) & (train_data['Age'] < 65)]\n",
    "agedness_df = train_data[train_data['Age'] >= 65]"
   ],
   "metadata": {
    "collapsed": false,
    "pycharm": {
     "name": "#%%\n"
    }
   }
  },
  {
   "cell_type": "code",
   "execution_count": 126,
   "outputs": [
    {
     "data": {
      "text/plain": "(69, 44, 767, 11)"
     },
     "execution_count": 126,
     "metadata": {},
     "output_type": "execute_result"
    }
   ],
   "source": [
    "# 儿童数量\n",
    "children_count = children_df['Survived'].count()\n",
    "# 少年数量\n",
    "juvenile_count = juvenile_df['Survived'].count()\n",
    "# 成年人数量\n",
    "adults_count = adults_df['Survived'].count()\n",
    "# 老年人数量\n",
    "agedness_count = agedness_df['Survived'].count()\n",
    "children_count, juvenile_count, adults_count, agedness_count"
   ],
   "metadata": {
    "collapsed": false,
    "pycharm": {
     "name": "#%%\n"
    }
   }
  },
  {
   "cell_type": "code",
   "execution_count": 127,
   "outputs": [
    {
     "data": {
      "text/plain": "(40, 21, 280, 1)"
     },
     "execution_count": 127,
     "metadata": {},
     "output_type": "execute_result"
    }
   ],
   "source": [
    "# 儿童中存活的数量\n",
    "children_survived_count = children_df['Survived'].sum()\n",
    "# 少年中存活的数量\n",
    "juvenile_survived_count = juvenile_df['Survived'].sum()\n",
    "# 成年人中存活的数量\n",
    "adults_survived_count = adults_df['Survived'].sum()\n",
    "# 老年人中存活的数量\n",
    "agedness_survived_count = agedness_df['Survived'].sum()\n",
    "children_survived_count, juvenile_survived_count, adults_survived_count, agedness_survived_count"
   ],
   "metadata": {
    "collapsed": false,
    "pycharm": {
     "name": "#%%\n"
    }
   }
  },
  {
   "cell_type": "code",
   "execution_count": 128,
   "outputs": [
    {
     "name": "stdout",
     "output_type": "stream",
     "text": [
      "儿童存活率：58.0%，少年存活率：47.7%\n",
      "成年人存活率：36.5%，老年人存活率：9.1%\n"
     ]
    }
   ],
   "source": [
    "children_survived_rate = 40 / 69\n",
    "juvenile_survived_rate = 21 / 44\n",
    "adults_survived_rate = 280 / 767\n",
    "agedness_survived_rate = 1 / 11\n",
    "print(\"儿童存活率：%.1f%%，少年存活率：%.1f%%\" %(children_survived_rate*100, juvenile_survived_rate*100))\n",
    "print(\"成年人存活率：%.1f%%，老年人存活率：%.1f%%\" %(adults_survived_rate*100, agedness_survived_rate*100))"
   ],
   "metadata": {
    "collapsed": false,
    "pycharm": {
     "name": "#%%\n"
    }
   }
  },
  {
   "cell_type": "markdown",
   "source": [
    "# SibSp（兄弟姐妹）\n",
    "# 有兄弟姐妹的乘客生还人数和生还率"
   ],
   "metadata": {
    "collapsed": false,
    "pycharm": {
     "name": "#%% md\n"
    }
   }
  },
  {
   "cell_type": "code",
   "execution_count": 131,
   "outputs": [
    {
     "data": {
      "text/plain": "(283, 608)"
     },
     "execution_count": 131,
     "metadata": {},
     "output_type": "execute_result"
    }
   ],
   "source": [
    "sibsp_df = train_data[train_data['SibSp'] != 0]\n",
    "no_sibsp_df = train_data[train_data['SibSp'] == 0]\n",
    "# 有兄弟姐妹的乘客数\n",
    "sibsp_count = sibsp_df['Survived'].count()\n",
    "# 没有兄弟姐妹的乘客数\n",
    "no_sibsp_count = no_sibsp_df['Survived'].count()\n",
    "sibsp_count, no_sibsp_count"
   ],
   "metadata": {
    "collapsed": false,
    "pycharm": {
     "name": "#%%\n"
    }
   }
  },
  {
   "cell_type": "code",
   "execution_count": 132,
   "outputs": [
    {
     "data": {
      "text/plain": "(132, 210)"
     },
     "execution_count": 132,
     "metadata": {},
     "output_type": "execute_result"
    }
   ],
   "source": [
    "# 有兄弟姐妹的乘客生还数\n",
    "sibsp_survived_count = sibsp_df['Survived'].sum()\n",
    "# 没有兄弟姐妹的乘客生还数\n",
    "no_sibsp_survived_count = no_sibsp_df['Survived'].sum()\n",
    "sibsp_survived_count, no_sibsp_survived_count"
   ],
   "metadata": {
    "collapsed": false,
    "pycharm": {
     "name": "#%%\n"
    }
   }
  },
  {
   "cell_type": "code",
   "execution_count": 133,
   "outputs": [
    {
     "name": "stdout",
     "output_type": "stream",
     "text": [
      "有兄弟姐妹的存活率：46.6%，没有兄弟姐妹的存活率：34.5%\n"
     ]
    }
   ],
   "source": [
    "sibsp_survived_rate = 132 / 283\n",
    "no_sibsp_survived_rate = 210 / 608\n",
    "print(\"有兄弟姐妹的存活率：%.1f%%，没有兄弟姐妹的存活率：%.1f%%\" %(sibsp_survived_rate*100, no_sibsp_survived_rate*100))"
   ],
   "metadata": {
    "collapsed": false,
    "pycharm": {
     "name": "#%%\n"
    }
   }
  },
  {
   "cell_type": "markdown",
   "source": [
    "# Parch（父母子女）\n",
    "# 有父母子女的乘客生还人数和生还率"
   ],
   "metadata": {
    "collapsed": false,
    "pycharm": {
     "name": "#%% md\n"
    }
   }
  },
  {
   "cell_type": "code",
   "execution_count": 134,
   "outputs": [
    {
     "data": {
      "text/plain": "(213, 678)"
     },
     "execution_count": 134,
     "metadata": {},
     "output_type": "execute_result"
    }
   ],
   "source": [
    "parch_df = train_data[train_data['Parch'] != 0]\n",
    "no_parch_df = train_data[train_data['Parch'] == 0]\n",
    "# 有父母子女的乘客数\n",
    "parch_count = parch_df['Survived'].count()\n",
    "# 没有父母子女的乘客数\n",
    "no_parch_count = no_parch_df['Survived'].count()\n",
    "parch_count, no_parch_count"
   ],
   "metadata": {
    "collapsed": false,
    "pycharm": {
     "name": "#%%\n"
    }
   }
  },
  {
   "cell_type": "code",
   "execution_count": 135,
   "outputs": [
    {
     "data": {
      "text/plain": "(109, 233)"
     },
     "execution_count": 135,
     "metadata": {},
     "output_type": "execute_result"
    }
   ],
   "source": [
    "# 有父母子女的乘客生还数\n",
    "parch_survived_count = parch_df['Survived'].sum()\n",
    "# 没有父母子女的乘客生还数\n",
    "no_parch_survived_count = no_parch_df['Survived'].sum()\n",
    "parch_survived_count, no_parch_survived_count"
   ],
   "metadata": {
    "collapsed": false,
    "pycharm": {
     "name": "#%%\n"
    }
   }
  },
  {
   "cell_type": "code",
   "execution_count": 136,
   "outputs": [
    {
     "name": "stdout",
     "output_type": "stream",
     "text": [
      "有父母子女的存活率：51.2%，没有父母子女的存活率：34.4%\n"
     ]
    }
   ],
   "source": [
    "parch_survived_rate = 109 / 213\n",
    "no_parch_survived_rate = 233 / 678\n",
    "print(\"有父母子女的存活率：%.1f%%，没有父母子女的存活率：%.1f%%\" %(parch_survived_rate*100, no_parch_survived_rate*100))"
   ],
   "metadata": {
    "collapsed": false,
    "pycharm": {
     "name": "#%%\n"
    }
   }
  },
  {
   "cell_type": "markdown",
   "source": [
    "# Fare（票价）\n",
    "# 票价分布"
   ],
   "metadata": {
    "collapsed": false,
    "pycharm": {
     "name": "#%% md\n"
    }
   }
  },
  {
   "cell_type": "code",
   "execution_count": 148,
   "outputs": [
    {
     "data": {
      "text/plain": "count    891.000000\nmean      32.204208\nstd       49.693429\nmin        0.000000\n25%        7.910400\n50%       14.454200\n75%       31.000000\nmax      512.329200\nName: Fare, dtype: float64"
     },
     "execution_count": 148,
     "metadata": {},
     "output_type": "execute_result"
    }
   ],
   "source": [
    "train_data['Fare'].describe()"
   ],
   "metadata": {
    "collapsed": false,
    "pycharm": {
     "name": "#%%\n"
    }
   }
  },
  {
   "cell_type": "markdown",
   "source": [
    "**绘制所有的票价分布图**"
   ],
   "metadata": {
    "collapsed": false,
    "pycharm": {
     "name": "#%% md\n"
    }
   }
  },
  {
   "cell_type": "code",
   "execution_count": 156,
   "outputs": [
    {
     "data": {
      "text/plain": "<Figure size 864x360 with 2 Axes>",
      "image/png": "[encoded data removed]"
     },
     "metadata": {
      "needs_background": "light"
     },
     "output_type": "display_data"
    }
   ],
   "source": [
    "plt.figure(figsize=(12, 5))\n",
    "# 绘制票价分布图\n",
    "plt.subplot(1, 2, 1)\n",
    "train_data['Fare'].hist(bins = 20)\n",
    "plt.xlabel('Fare')\n",
    "plt.ylabel('Count')\n",
    "# 绘制盒图\n",
    "plt.subplot(1, 2, 2)\n",
    "train_data.boxplot(column='Fare', showfliers=False)\n",
    "plt.show()"
   ],
   "metadata": {
    "collapsed": false,
    "pycharm": {
     "name": "#%%\n"
    }
   }
  },
  {
   "cell_type": "markdown",
   "source": [
    "**绘制存活乘客的票价分布图**"
   ],
   "metadata": {
    "collapsed": false,
    "pycharm": {
     "name": "#%% md\n"
    }
   }
  },
  {
   "cell_type": "code",
   "execution_count": 157,
   "outputs": [
    {
     "data": {
      "text/plain": "<Figure size 864x360 with 2 Axes>",
      "image/png": "[encoded data removed]"
     },
     "metadata": {
      "needs_background": "light"
     },
     "output_type": "display_data"
    }
   ],
   "source": [
    "plt.figure(figsize=(12, 5))\n",
    "# 绘制存活乘客的票价分布图\n",
    "plt.subplot(1, 2, 1)\n",
    "train_data[train_data['Survived'] == 1]['Fare'].hist(bins = 20)\n",
    "plt.xlabel('Fare')\n",
    "plt.ylabel('Count')\n",
    "# 绘制存活乘客的票价盒图\n",
    "plt.subplot(1, 2, 2)\n",
    "train_data[train_data['Survived'] == 1].boxplot(column='Fare', showfliers=False)\n",
    "plt.show()"
   ],
   "metadata": {
    "collapsed": false,
    "pycharm": {
     "name": "#%%\n"
    }
   }
  },
  {
   "cell_type": "markdown",
   "source": [
    "# Cabin（船舱）\n",
    "# 丢失值太多，不能用此数据分析出Cabin对生存率的影响，丢掉"
   ],
   "metadata": {
    "collapsed": false,
    "pycharm": {
     "name": "#%% md\n"
    }
   }
  },
  {
   "cell_type": "code",
   "execution_count": 185,
   "outputs": [],
   "source": [
    "train_data = train_data.drop('Cabin', axis=1)"
   ],
   "metadata": {
    "collapsed": false,
    "pycharm": {
     "name": "#%%\n"
    }
   }
  },
  {
   "cell_type": "code",
   "execution_count": 186,
   "outputs": [
    {
     "name": "stdout",
     "output_type": "stream",
     "text": [
      "<class 'pandas.core.frame.DataFrame'>\n",
      "RangeIndex: 891 entries, 0 to 890\n",
      "Data columns (total 8 columns):\n",
      " #   Column    Non-Null Count  Dtype  \n",
      "---  ------    --------------  -----  \n",
      " 0   Survived  891 non-null    int64  \n",
      " 1   Pclass    891 non-null    int64  \n",
      " 2   Sex       891 non-null    object \n",
      " 3   Age       891 non-null    float64\n",
      " 4   SibSp     891 non-null    int64  \n",
      " 5   Parch     891 non-null    int64  \n",
      " 6   Fare      891 non-null    float64\n",
      " 7   Embarked  889 non-null    object \n",
      "dtypes: float64(2), int64(4), object(2)\n",
      "memory usage: 55.8+ KB\n"
     ]
    }
   ],
   "source": [
    "train_data.info()"
   ],
   "metadata": {
    "collapsed": false,
    "pycharm": {
     "name": "#%%\n"
    }
   }
  },
  {
   "cell_type": "markdown",
   "source": [
    "# Embarked（登船港口）\n",
    "# 各个港口上船人数及生还率\n",
    "**由于Embarked有两个缺失值，所以这里使用众数来填充**"
   ],
   "metadata": {
    "collapsed": false,
    "pycharm": {
     "name": "#%% md\n"
    }
   }
  },
  {
   "cell_type": "code",
   "execution_count": 188,
   "outputs": [
    {
     "data": {
      "text/plain": "S    644\nC    168\nQ     77\nName: Embarked, dtype: int64"
     },
     "execution_count": 188,
     "metadata": {},
     "output_type": "execute_result"
    }
   ],
   "source": [
    "# 统计各个（港口）出现的次数\n",
    "train_data['Embarked'].value_counts()"
   ],
   "metadata": {
    "collapsed": false,
    "pycharm": {
     "name": "#%%\n"
    }
   }
  },
  {
   "cell_type": "code",
   "execution_count": 189,
   "outputs": [],
   "source": [
    "# S出现的次数最多，所以用S来填充两个缺失的数\n",
    "train_data['Embarked'] = train_data['Embarked'].fillna('S')"
   ],
   "metadata": {
    "collapsed": false,
    "pycharm": {
     "name": "#%%\n"
    }
   }
  },
  {
   "cell_type": "code",
   "execution_count": 192,
   "outputs": [
    {
     "name": "stdout",
     "output_type": "stream",
     "text": [
      "<class 'pandas.core.frame.DataFrame'>\n",
      "RangeIndex: 891 entries, 0 to 890\n",
      "Data columns (total 8 columns):\n",
      " #   Column    Non-Null Count  Dtype  \n",
      "---  ------    --------------  -----  \n",
      " 0   Survived  891 non-null    int64  \n",
      " 1   Pclass    891 non-null    int64  \n",
      " 2   Sex       891 non-null    object \n",
      " 3   Age       891 non-null    float64\n",
      " 4   SibSp     891 non-null    int64  \n",
      " 5   Parch     891 non-null    int64  \n",
      " 6   Fare      891 non-null    float64\n",
      " 7   Embarked  891 non-null    object \n",
      "dtypes: float64(2), int64(4), object(2)\n",
      "memory usage: 55.8+ KB\n"
     ]
    }
   ],
   "source": [
    "train_data.info()"
   ],
   "metadata": {
    "collapsed": false,
    "pycharm": {
     "name": "#%%\n"
    }
   }
  },
  {
   "cell_type": "markdown",
   "source": [
    "**填充后，各个港口登船的乘客数**"
   ],
   "metadata": {
    "collapsed": false,
    "pycharm": {
     "name": "#%% md\n"
    }
   }
  },
  {
   "cell_type": "code",
   "execution_count": 193,
   "outputs": [
    {
     "data": {
      "text/plain": "S    646\nC    168\nQ     77\nName: Embarked, dtype: int64"
     },
     "execution_count": 193,
     "metadata": {},
     "output_type": "execute_result"
    }
   ],
   "source": [
    "train_data['Embarked'].value_counts()"
   ],
   "metadata": {
    "collapsed": false,
    "pycharm": {
     "name": "#%%\n"
    }
   }
  },
  {
   "cell_type": "markdown",
   "source": [
    "**海难后，各个港口登船的存活乘客数**"
   ],
   "metadata": {
    "collapsed": false,
    "pycharm": {
     "name": "#%% md\n"
    }
   }
  },
  {
   "cell_type": "code",
   "execution_count": 194,
   "outputs": [
    {
     "data": {
      "text/plain": "S    219\nC     93\nQ     30\nName: Embarked, dtype: int64"
     },
     "execution_count": 194,
     "metadata": {},
     "output_type": "execute_result"
    }
   ],
   "source": [
    "train_data[train_data['Survived'] == 1]['Embarked'].value_counts()"
   ],
   "metadata": {
    "collapsed": false,
    "pycharm": {
     "name": "#%%\n"
    }
   }
  },
  {
   "cell_type": "markdown",
   "source": [
    "**统计各个港口登船的存活率**"
   ],
   "metadata": {
    "collapsed": false,
    "pycharm": {
     "name": "#%% md\n"
    }
   }
  },
  {
   "cell_type": "code",
   "execution_count": 195,
   "outputs": [
    {
     "name": "stdout",
     "output_type": "stream",
     "text": [
      "S港口存活率：33.9%，C港口存活率：55.4%，Q港口存活率：39.0%\n"
     ]
    }
   ],
   "source": [
    "S_survived_rate = 219 / 646\n",
    "C_survived_rate = 93 / 168\n",
    "Q_survived_rate = 30 / 77\n",
    "print(\"S港口存活率：%.1f%%，C港口存活率：%.1f%%，Q港口存活率：%.1f%%\" %(S_survived_rate*100, C_survived_rate*100,Q_survived_rate*100))"
   ],
   "metadata": {
    "collapsed": false,
    "pycharm": {
     "name": "#%%\n"
    }
   }
  },
  {
   "cell_type": "markdown",
   "source": [
    "# 二、数据分析总结\n",
    "本次分析主要寻找了泰坦尼克号上的生还率与各因素（客舱等级、年龄、性别、上船港口等）的关系。\n",
    "\n",
    "1. 样本数量为891，海难发生后，生还者还剩342人，生还率为38.4%。\n",
    "\n",
    "2. 泰坦尼克号上有一、二、三等舱三种船舱类型。\n",
    "        海难发生前，一等舱有 216 人，二等舱 184 人，三等舱 491 人，分别占总人数的 24%， 21%， 55%。\n",
    "        海难发生后，一等舱、二等舱、三等舱的乘客人数变为136、87、119人，分别占总人数的 40%, 25%, 35%。\n",
    "        一等舱生还率为 63%，二等舱为 47%，三等舱为 24%。可见客舱等级越高，生还率越高。\n",
    "\n",
    "3. 海难发生前，男性共577人，女性314人，男女比例为 65% 和 35%。\n",
    "        海难发生后，男性变为109人，女性变为233人，男女比例变为 32% 和 68%。\n",
    "        男性生还109人，生还率仅为19%。女性生还233人，生还率为74%，远远高于男性的19%。可见女性比男性在这次事故中更容易生还，表明“女士优先”的原则在本次事故中得到了发扬。\n",
    "\n",
    "4. 样本的891人中，平均年龄约为30岁， 标准差15岁，最小年龄为0.42，最大年龄80。按照儿童（0-12）、少年（12-18）、成人（18-65）、老年人（65及以上）划分为四类。\n",
    "        四类人的生还率分别为58%，48%，39% 和9%。可见年龄越大，生还率越低。“尊老爱幼”的原则在本次事故中没有很好体现。\n",
    "\n",
    "5. 有兄弟姐妹的乘客有283人，生还132人，生还率为47%，\n",
    "        而没有兄弟姐妹的乘客，有608人，生还210人，生还率为35%。可见有兄弟姐妹同船的生还率比没有兄弟姐妹同船的生还率要高。\n",
    "\n",
    "6. 有父母或子女同船的乘客有213人，生还109人，生还率为51%。\n",
    "        没有父母子女同船的乘客有678人，生还233人，生还率仅为34%。\n",
    "   可见有父母或子女同船的生还率比没有的生还率要高。综合前一条分析，可以得出推论，有家人在船上的比没有家人在船上的生还概率要大。\n",
    "\n",
    "7. 票价与生还有一定相关性，生还者的平均票价要比未生还的高。\n",
    "\n",
    "8. S港口生还人数最多，C次之，Q最少。从生还率来看，C港上船的生还率最高，Q次之，S生还率最低。"
   ],
   "metadata": {
    "collapsed": false,
    "pycharm": {
     "name": "#%% md\n"
    }
   }
  },
  {
   "cell_type": "markdown",
   "source": [
    "# 三、构建模型训练"
   ],
   "metadata": {
    "collapsed": false,
    "pycharm": {
     "name": "#%% md\n"
    }
   }
  },
  {
   "cell_type": "markdown",
   "source": [
    "## 1.处理数据缺失值"
   ],
   "metadata": {
    "collapsed": false,
    "pycharm": {
     "name": "#%% md\n"
    }
   }
  },
  {
   "cell_type": "code",
   "execution_count": 495,
   "outputs": [
    {
     "name": "stdout",
     "output_type": "stream",
     "text": [
      "<class 'pandas.core.frame.DataFrame'>\n",
      "RangeIndex: 1309 entries, 0 to 1308\n",
      "Data columns (total 12 columns):\n",
      " #   Column       Non-Null Count  Dtype  \n",
      "---  ------       --------------  -----  \n",
      " 0   PassengerId  1309 non-null   int64  \n",
      " 1   Survived     891 non-null    float64\n",
      " 2   Pclass       1309 non-null   int64  \n",
      " 3   Name         1309 non-null   object \n",
      " 4   Sex          1309 non-null   object \n",
      " 5   Age          1046 non-null   float64\n",
      " 6   SibSp        1309 non-null   int64  \n",
      " 7   Parch        1309 non-null   int64  \n",
      " 8   Ticket       1309 non-null   object \n",
      " 9   Fare         1308 non-null   float64\n",
      " 10  Cabin        295 non-null    object \n",
      " 11  Embarked     1307 non-null   object \n",
      "dtypes: float64(3), int64(4), object(5)\n",
      "memory usage: 122.8+ KB\n"
     ]
    }
   ],
   "source": [
    "train_data = pd.read_csv(TRAIN_PATH) # 891条\n",
    "test_data = pd.read_csv(TEST_PATH) # 418条\n",
    "# 将训练数据和测试数据先进行纵向堆叠，方便统一进行数据处理\n",
    "full = pd.concat([train_data, test_data], axis=0, ignore_index=True)\n",
    "full.info()"
   ],
   "metadata": {
    "collapsed": false,
    "pycharm": {
     "name": "#%%\n"
    }
   }
  },
  {
   "cell_type": "code",
   "execution_count": 496,
   "outputs": [],
   "source": [
    "# 删除不需要的数据\n",
    "full = full.drop(['PassengerId', 'Name', 'Ticket', 'Cabin'], axis=1)"
   ],
   "metadata": {
    "collapsed": false,
    "pycharm": {
     "name": "#%%\n"
    }
   }
  },
  {
   "cell_type": "code",
   "execution_count": 497,
   "outputs": [
    {
     "name": "stdout",
     "output_type": "stream",
     "text": [
      "<class 'pandas.core.frame.DataFrame'>\n",
      "RangeIndex: 1309 entries, 0 to 1308\n",
      "Data columns (total 8 columns):\n",
      " #   Column    Non-Null Count  Dtype  \n",
      "---  ------    --------------  -----  \n",
      " 0   Survived  891 non-null    float64\n",
      " 1   Pclass    1309 non-null   int64  \n",
      " 2   Sex       1309 non-null   object \n",
      " 3   Age       1046 non-null   float64\n",
      " 4   SibSp     1309 non-null   int64  \n",
      " 5   Parch     1309 non-null   int64  \n",
      " 6   Fare      1308 non-null   float64\n",
      " 7   Embarked  1307 non-null   object \n",
      "dtypes: float64(3), int64(3), object(2)\n",
      "memory usage: 81.9+ KB\n"
     ]
    }
   ],
   "source": [
    "full.info()"
   ],
   "metadata": {
    "collapsed": false,
    "pycharm": {
     "name": "#%%\n"
    }
   }
  },
  {
   "cell_type": "code",
   "execution_count": 498,
   "outputs": [],
   "source": [
    "# 填充age中的缺失值\n",
    "full['Age'] = full['Age'].fillna(full['Age'].mean())\n",
    "# 填充fare中的缺失值\n",
    "full['Fare'] = full['Fare'].fillna(full['Fare'].mean())"
   ],
   "metadata": {
    "collapsed": false,
    "pycharm": {
     "name": "#%%\n"
    }
   }
  },
  {
   "cell_type": "code",
   "execution_count": 499,
   "outputs": [
    {
     "name": "stdout",
     "output_type": "stream",
     "text": [
      "<class 'pandas.core.frame.DataFrame'>\n",
      "RangeIndex: 1309 entries, 0 to 1308\n",
      "Data columns (total 8 columns):\n",
      " #   Column    Non-Null Count  Dtype  \n",
      "---  ------    --------------  -----  \n",
      " 0   Survived  891 non-null    float64\n",
      " 1   Pclass    1309 non-null   int64  \n",
      " 2   Sex       1309 non-null   object \n",
      " 3   Age       1309 non-null   float64\n",
      " 4   SibSp     1309 non-null   int64  \n",
      " 5   Parch     1309 non-null   int64  \n",
      " 6   Fare      1309 non-null   float64\n",
      " 7   Embarked  1307 non-null   object \n",
      "dtypes: float64(3), int64(3), object(2)\n",
      "memory usage: 81.9+ KB\n"
     ]
    }
   ],
   "source": [
    "full.info()"
   ],
   "metadata": {
    "collapsed": false,
    "pycharm": {
     "name": "#%%\n"
    }
   }
  },
  {
   "cell_type": "code",
   "execution_count": 500,
   "outputs": [
    {
     "data": {
      "text/plain": "S    914\nC    270\nQ    123\nName: Embarked, dtype: int64"
     },
     "execution_count": 500,
     "metadata": {},
     "output_type": "execute_result"
    }
   ],
   "source": [
    "# 使用众数填充embarked中的数据\n",
    "full['Embarked'].value_counts()"
   ],
   "metadata": {
    "collapsed": false,
    "pycharm": {
     "name": "#%%\n"
    }
   }
  },
  {
   "cell_type": "code",
   "execution_count": 501,
   "outputs": [],
   "source": [
    "full['Embarked'] = full['Embarked'].fillna('S')"
   ],
   "metadata": {
    "collapsed": false,
    "pycharm": {
     "name": "#%%\n"
    }
   }
  },
  {
   "cell_type": "code",
   "execution_count": 502,
   "outputs": [
    {
     "name": "stdout",
     "output_type": "stream",
     "text": [
      "<class 'pandas.core.frame.DataFrame'>\n",
      "RangeIndex: 1309 entries, 0 to 1308\n",
      "Data columns (total 8 columns):\n",
      " #   Column    Non-Null Count  Dtype  \n",
      "---  ------    --------------  -----  \n",
      " 0   Survived  891 non-null    float64\n",
      " 1   Pclass    1309 non-null   int64  \n",
      " 2   Sex       1309 non-null   object \n",
      " 3   Age       1309 non-null   float64\n",
      " 4   SibSp     1309 non-null   int64  \n",
      " 5   Parch     1309 non-null   int64  \n",
      " 6   Fare      1309 non-null   float64\n",
      " 7   Embarked  1309 non-null   object \n",
      "dtypes: float64(3), int64(3), object(2)\n",
      "memory usage: 81.9+ KB\n"
     ]
    }
   ],
   "source": [
    "full.info()"
   ],
   "metadata": {
    "collapsed": false,
    "pycharm": {
     "name": "#%%\n"
    }
   }
  },
  {
   "cell_type": "markdown",
   "source": [
    "## 2.处理字符串和类别"
   ],
   "metadata": {
    "collapsed": false,
    "pycharm": {
     "name": "#%% md\n"
    }
   }
  },
  {
   "cell_type": "markdown",
   "source": [
    "### 2.1 处理性别"
   ],
   "metadata": {
    "collapsed": false,
    "pycharm": {
     "name": "#%% md\n"
    }
   }
  },
  {
   "cell_type": "code",
   "execution_count": 503,
   "outputs": [
    {
     "data": {
      "text/plain": "0      male\n1    female\n2    female\n3    female\n4      male\nName: Sex, dtype: object"
     },
     "execution_count": 503,
     "metadata": {},
     "output_type": "execute_result"
    }
   ],
   "source": [
    "full['Sex'].head()"
   ],
   "metadata": {
    "collapsed": false,
    "pycharm": {
     "name": "#%%\n"
    }
   }
  },
  {
   "cell_type": "code",
   "execution_count": 504,
   "outputs": [],
   "source": [
    "# 将性别的值映射成数值\n",
    "sex_2_dict = {\"male\": 0, \"female\":1}\n",
    "full['Sex'] = full['Sex'].map(sex_2_dict)"
   ],
   "metadata": {
    "collapsed": false,
    "pycharm": {
     "name": "#%%\n"
    }
   }
  },
  {
   "cell_type": "code",
   "execution_count": 505,
   "outputs": [
    {
     "data": {
      "text/plain": "0    0\n1    1\n2    1\n3    1\n4    0\nName: Sex, dtype: int64"
     },
     "execution_count": 505,
     "metadata": {},
     "output_type": "execute_result"
    }
   ],
   "source": [
    "full['Sex'].head()"
   ],
   "metadata": {
    "collapsed": false,
    "pycharm": {
     "name": "#%%\n"
    }
   }
  },
  {
   "cell_type": "markdown",
   "source": [
    "### 2.2 处理客舱类别"
   ],
   "metadata": {
    "collapsed": false,
    "pycharm": {
     "name": "#%% md\n"
    }
   }
  },
  {
   "cell_type": "code",
   "execution_count": 506,
   "outputs": [
    {
     "data": {
      "text/plain": "0    3\n1    1\n2    3\n3    1\n4    3\nName: Pclass, dtype: int64"
     },
     "execution_count": 506,
     "metadata": {},
     "output_type": "execute_result"
    }
   ],
   "source": [
    "full['Pclass'].head()"
   ],
   "metadata": {
    "collapsed": false,
    "pycharm": {
     "name": "#%%\n"
    }
   }
  },
  {
   "cell_type": "code",
   "execution_count": 507,
   "outputs": [
    {
     "data": {
      "text/plain": "   Pclass_1  Pclass_2  Pclass_3\n0         0         0         1\n1         1         0         0\n2         0         0         1\n3         1         0         0\n4         0         0         1",
      "text/html": "<div>\n<style scoped>\n    .dataframe tbody tr th:only-of-type {\n        vertical-align: middle;\n    }\n\n    .dataframe tbody tr th {\n        vertical-align: top;\n    }\n\n    .dataframe thead th {\n        text-align: right;\n    }\n</style>\n<table border=\"1\" class=\"dataframe\">\n  <thead>\n    <tr style=\"text-align: right;\">\n      <th></th>\n      <th>Pclass_1</th>\n      <th>Pclass_2</th>\n      <th>Pclass_3</th>\n    </tr>\n  </thead>\n  <tbody>\n    <tr>\n      <th>0</th>\n      <td>0</td>\n      <td>0</td>\n      <td>1</td>\n    </tr>\n    <tr>\n      <th>1</th>\n      <td>1</td>\n      <td>0</td>\n      <td>0</td>\n    </tr>\n    <tr>\n      <th>2</th>\n      <td>0</td>\n      <td>0</td>\n      <td>1</td>\n    </tr>\n    <tr>\n      <th>3</th>\n      <td>1</td>\n      <td>0</td>\n      <td>0</td>\n    </tr>\n    <tr>\n      <th>4</th>\n      <td>0</td>\n      <td>0</td>\n      <td>1</td>\n    </tr>\n  </tbody>\n</table>\n</div>"
     },
     "execution_count": 507,
     "metadata": {},
     "output_type": "execute_result"
    }
   ],
   "source": [
    "# 存放提取后的特征\n",
    "pClassDf = pd.DataFrame()\n",
    "# 将船舱类别转换为one-hot编码格式\n",
    "pClassDf = pd.get_dummies(full['Pclass'], prefix='Pclass')\n",
    "pClassDf.head()"
   ],
   "metadata": {
    "collapsed": false,
    "pycharm": {
     "name": "#%%\n"
    }
   }
  },
  {
   "cell_type": "code",
   "execution_count": 508,
   "outputs": [
    {
     "data": {
      "text/plain": "   Survived  Sex   Age  SibSp  Parch     Fare Embarked  Pclass_1  Pclass_2  \\\n0       0.0    0  22.0      1      0   7.2500        S         0         0   \n1       1.0    1  38.0      1      0  71.2833        C         1         0   \n2       1.0    1  26.0      0      0   7.9250        S         0         0   \n3       1.0    1  35.0      1      0  53.1000        S         1         0   \n4       0.0    0  35.0      0      0   8.0500        S         0         0   \n\n   Pclass_3  \n0         1  \n1         0  \n2         1  \n3         0  \n4         1  ",
      "text/html": "<div>\n<style scoped>\n    .dataframe tbody tr th:only-of-type {\n        vertical-align: middle;\n    }\n\n    .dataframe tbody tr th {\n        vertical-align: top;\n    }\n\n    .dataframe thead th {\n        text-align: right;\n    }\n</style>\n<table border=\"1\" class=\"dataframe\">\n  <thead>\n    <tr style=\"text-align: right;\">\n      <th></th>\n      <th>Survived</th>\n      <th>Sex</th>\n      <th>Age</th>\n      <th>SibSp</th>\n      <th>Parch</th>\n      <th>Fare</th>\n      <th>Embarked</th>\n      <th>Pclass_1</th>\n      <th>Pclass_2</th>\n      <th>Pclass_3</th>\n    </tr>\n  </thead>\n  <tbody>\n    <tr>\n      <th>0</th>\n      <td>0.0</td>\n      <td>0</td>\n      <td>22.0</td>\n      <td>1</td>\n      <td>0</td>\n      <td>7.2500</td>\n      <td>S</td>\n      <td>0</td>\n      <td>0</td>\n      <td>1</td>\n    </tr>\n    <tr>\n      <th>1</th>\n      <td>1.0</td>\n      <td>1</td>\n      <td>38.0</td>\n      <td>1</td>\n      <td>0</td>\n      <td>71.2833</td>\n      <td>C</td>\n      <td>1</td>\n      <td>0</td>\n      <td>0</td>\n    </tr>\n    <tr>\n      <th>2</th>\n      <td>1.0</td>\n      <td>1</td>\n      <td>26.0</td>\n      <td>0</td>\n      <td>0</td>\n      <td>7.9250</td>\n      <td>S</td>\n      <td>0</td>\n      <td>0</td>\n      <td>1</td>\n    </tr>\n    <tr>\n      <th>3</th>\n      <td>1.0</td>\n      <td>1</td>\n      <td>35.0</td>\n      <td>1</td>\n      <td>0</td>\n      <td>53.1000</td>\n      <td>S</td>\n      <td>1</td>\n      <td>0</td>\n      <td>0</td>\n    </tr>\n    <tr>\n      <th>4</th>\n      <td>0.0</td>\n      <td>0</td>\n      <td>35.0</td>\n      <td>0</td>\n      <td>0</td>\n      <td>8.0500</td>\n      <td>S</td>\n      <td>0</td>\n      <td>0</td>\n      <td>1</td>\n    </tr>\n  </tbody>\n</table>\n</div>"
     },
     "execution_count": 508,
     "metadata": {},
     "output_type": "execute_result"
    }
   ],
   "source": [
    "# 将one-hot编码产生的虚拟变量添加到泰坦尼克号数据集full中\n",
    "full = pd.concat([full, pClassDf], axis=1)\n",
    "# 因为已经将类别转换为one-hot编码形式，并且添加到了full数据集中，所以删除原有的Pclass列\n",
    "full = full.drop('Pclass', axis=1)\n",
    "full.head()"
   ],
   "metadata": {
    "collapsed": false,
    "pycharm": {
     "name": "#%%\n"
    }
   }
  },
  {
   "cell_type": "markdown",
   "source": [
    "### 2.3 处理港口类别"
   ],
   "metadata": {
    "collapsed": false
   }
  },
  {
   "cell_type": "code",
   "execution_count": 509,
   "outputs": [
    {
     "data": {
      "text/plain": "0    S\n1    C\n2    S\n3    S\n4    S\nName: Embarked, dtype: object"
     },
     "execution_count": 509,
     "metadata": {},
     "output_type": "execute_result"
    }
   ],
   "source": [
    "full['Embarked'].head()"
   ],
   "metadata": {
    "collapsed": false,
    "pycharm": {
     "name": "#%%\n"
    }
   }
  },
  {
   "cell_type": "code",
   "execution_count": 510,
   "outputs": [
    {
     "data": {
      "text/plain": "   Embarked_C  Embarked_Q  Embarked_S\n0           0           0           1\n1           1           0           0\n2           0           0           1\n3           0           0           1\n4           0           0           1",
      "text/html": "<div>\n<style scoped>\n    .dataframe tbody tr th:only-of-type {\n        vertical-align: middle;\n    }\n\n    .dataframe tbody tr th {\n        vertical-align: top;\n    }\n\n    .dataframe thead th {\n        text-align: right;\n    }\n</style>\n<table border=\"1\" class=\"dataframe\">\n  <thead>\n    <tr style=\"text-align: right;\">\n      <th></th>\n      <th>Embarked_C</th>\n      <th>Embarked_Q</th>\n      <th>Embarked_S</th>\n    </tr>\n  </thead>\n  <tbody>\n    <tr>\n      <th>0</th>\n      <td>0</td>\n      <td>0</td>\n      <td>1</td>\n    </tr>\n    <tr>\n      <th>1</th>\n      <td>1</td>\n      <td>0</td>\n      <td>0</td>\n    </tr>\n    <tr>\n      <th>2</th>\n      <td>0</td>\n      <td>0</td>\n      <td>1</td>\n    </tr>\n    <tr>\n      <th>3</th>\n      <td>0</td>\n      <td>0</td>\n      <td>1</td>\n    </tr>\n    <tr>\n      <th>4</th>\n      <td>0</td>\n      <td>0</td>\n      <td>1</td>\n    </tr>\n  </tbody>\n</table>\n</div>"
     },
     "execution_count": 510,
     "metadata": {},
     "output_type": "execute_result"
    }
   ],
   "source": [
    "# 存放提取后的特征\n",
    "embarkedDf = pd.DataFrame()\n",
    "# 将港口类别转换为one-hot编码格式\n",
    "embarkedDf = pd.get_dummies(full['Embarked'], prefix='Embarked')\n",
    "embarkedDf.head()"
   ],
   "metadata": {
    "collapsed": false,
    "pycharm": {
     "name": "#%%\n"
    }
   }
  },
  {
   "cell_type": "code",
   "execution_count": 511,
   "outputs": [
    {
     "data": {
      "text/plain": "   Survived  Sex   Age  SibSp  Parch     Fare  Pclass_1  Pclass_2  Pclass_3  \\\n0       0.0    0  22.0      1      0   7.2500         0         0         1   \n1       1.0    1  38.0      1      0  71.2833         1         0         0   \n2       1.0    1  26.0      0      0   7.9250         0         0         1   \n3       1.0    1  35.0      1      0  53.1000         1         0         0   \n4       0.0    0  35.0      0      0   8.0500         0         0         1   \n\n   Embarked_C  Embarked_Q  Embarked_S  \n0           0           0           1  \n1           1           0           0  \n2           0           0           1  \n3           0           0           1  \n4           0           0           1  ",
      "text/html": "<div>\n<style scoped>\n    .dataframe tbody tr th:only-of-type {\n        vertical-align: middle;\n    }\n\n    .dataframe tbody tr th {\n        vertical-align: top;\n    }\n\n    .dataframe thead th {\n        text-align: right;\n    }\n</style>\n<table border=\"1\" class=\"dataframe\">\n  <thead>\n    <tr style=\"text-align: right;\">\n      <th></th>\n      <th>Survived</th>\n      <th>Sex</th>\n      <th>Age</th>\n      <th>SibSp</th>\n      <th>Parch</th>\n      <th>Fare</th>\n      <th>Pclass_1</th>\n      <th>Pclass_2</th>\n      <th>Pclass_3</th>\n      <th>Embarked_C</th>\n      <th>Embarked_Q</th>\n      <th>Embarked_S</th>\n    </tr>\n  </thead>\n  <tbody>\n    <tr>\n      <th>0</th>\n      <td>0.0</td>\n      <td>0</td>\n      <td>22.0</td>\n      <td>1</td>\n      <td>0</td>\n      <td>7.2500</td>\n      <td>0</td>\n      <td>0</td>\n      <td>1</td>\n      <td>0</td>\n      <td>0</td>\n      <td>1</td>\n    </tr>\n    <tr>\n      <th>1</th>\n      <td>1.0</td>\n      <td>1</td>\n      <td>38.0</td>\n      <td>1</td>\n      <td>0</td>\n      <td>71.2833</td>\n      <td>1</td>\n      <td>0</td>\n      <td>0</td>\n      <td>1</td>\n      <td>0</td>\n      <td>0</td>\n    </tr>\n    <tr>\n      <th>2</th>\n      <td>1.0</td>\n      <td>1</td>\n      <td>26.0</td>\n      <td>0</td>\n      <td>0</td>\n      <td>7.9250</td>\n      <td>0</td>\n      <td>0</td>\n      <td>1</td>\n      <td>0</td>\n      <td>0</td>\n      <td>1</td>\n    </tr>\n    <tr>\n      <th>3</th>\n      <td>1.0</td>\n      <td>1</td>\n      <td>35.0</td>\n      <td>1</td>\n      <td>0</td>\n      <td>53.1000</td>\n      <td>1</td>\n      <td>0</td>\n      <td>0</td>\n      <td>0</td>\n      <td>0</td>\n      <td>1</td>\n    </tr>\n    <tr>\n      <th>4</th>\n      <td>0.0</td>\n      <td>0</td>\n      <td>35.0</td>\n      <td>0</td>\n      <td>0</td>\n      <td>8.0500</td>\n      <td>0</td>\n      <td>0</td>\n      <td>1</td>\n      <td>0</td>\n      <td>0</td>\n      <td>1</td>\n    </tr>\n  </tbody>\n</table>\n</div>"
     },
     "execution_count": 511,
     "metadata": {},
     "output_type": "execute_result"
    }
   ],
   "source": [
    "# 将one-hot编码产生的虚拟变量添加到泰坦尼克号数据集full中\n",
    "full = pd.concat([full, embarkedDf], axis=1)\n",
    "# 因为已经将类别转换为one-hot编码形式，并且添加到了full数据集中，所以删除原有的Embarked列\n",
    "full = full.drop('Embarked', axis=1)\n",
    "full.head()"
   ],
   "metadata": {
    "collapsed": false,
    "pycharm": {
     "name": "#%%\n"
    }
   }
  },
  {
   "cell_type": "code",
   "execution_count": 512,
   "outputs": [
    {
     "name": "stdout",
     "output_type": "stream",
     "text": [
      "<class 'pandas.core.frame.DataFrame'>\n",
      "RangeIndex: 1309 entries, 0 to 1308\n",
      "Data columns (total 12 columns):\n",
      " #   Column      Non-Null Count  Dtype  \n",
      "---  ------      --------------  -----  \n",
      " 0   Survived    891 non-null    float64\n",
      " 1   Sex         1309 non-null   int64  \n",
      " 2   Age         1309 non-null   float64\n",
      " 3   SibSp       1309 non-null   int64  \n",
      " 4   Parch       1309 non-null   int64  \n",
      " 5   Fare        1309 non-null   float64\n",
      " 6   Pclass_1    1309 non-null   uint8  \n",
      " 7   Pclass_2    1309 non-null   uint8  \n",
      " 8   Pclass_3    1309 non-null   uint8  \n",
      " 9   Embarked_C  1309 non-null   uint8  \n",
      " 10  Embarked_Q  1309 non-null   uint8  \n",
      " 11  Embarked_S  1309 non-null   uint8  \n",
      "dtypes: float64(3), int64(3), uint8(6)\n",
      "memory usage: 69.2 KB\n"
     ]
    }
   ],
   "source": [
    "full.info()"
   ],
   "metadata": {
    "collapsed": false,
    "pycharm": {
     "name": "#%%\n"
    }
   }
  },
  {
   "cell_type": "markdown",
   "source": [
    "## 3.数据归一化处理"
   ],
   "metadata": {
    "collapsed": false
   }
  },
  {
   "cell_type": "code",
   "execution_count": null,
   "outputs": [],
   "source": [
    "# 对年龄和票价进行归一化处理\n",
    "# print(\"处理前：\\n\", full['Age'].describe())\n",
    "# full['Age'] =(full['Age'] - full['Age'].min()) / (full['Age'].max() - full['Age'].min())\n",
    "# full['Fare'] =(full['Fare'] - full['Fare'].min()) / (full['Fare'].max() - full['Fare'].min())\n",
    "# print(\"处理后：\\n\", full['Age'].describe())"
   ],
   "metadata": {
    "collapsed": false,
    "pycharm": {
     "name": "#%%\n",
     "is_executing": true
    }
   }
  },
  {
   "cell_type": "markdown",
   "source": [
    "## 3.构建数据集"
   ],
   "metadata": {
    "collapsed": false,
    "pycharm": {
     "name": "#%% md\n"
    }
   }
  },
  {
   "cell_type": "code",
   "execution_count": 513,
   "outputs": [
    {
     "name": "stdout",
     "output_type": "stream",
     "text": [
      "训练集标签：\n",
      "(891,)，类型：<class 'numpy.ndarray'>\n",
      "训练集样本：\n",
      "(891, 11)，类型：<class 'numpy.ndarray'>\n",
      "测试集样本：\n",
      "(418, 11)，类型：<class 'numpy.ndarray'>\n"
     ]
    }
   ],
   "source": [
    "# 取出训练集样本和标签，测试集样本，并转换为numpy类型\n",
    "train_labels = full.iloc[:891,0].to_numpy()\n",
    "print(f\"训练集标签：\\n{train_labels.shape}，类型：{type(train_labels)}\")\n",
    "\n",
    "train_inputs = full.iloc[:891,1:].to_numpy()\n",
    "print(f\"训练集样本：\\n{train_inputs.shape}，类型：{type(train_inputs)}\")\n",
    "\n",
    "test_inputs = full.iloc[891:,1:].to_numpy()\n",
    "print(f\"测试集样本：\\n{test_inputs.shape}，类型：{type(test_inputs)}\")"
   ],
   "metadata": {
    "collapsed": false,
    "pycharm": {
     "name": "#%%\n"
    }
   }
  },
  {
   "cell_type": "code",
   "execution_count": 514,
   "outputs": [],
   "source": [
    "import torch\n",
    "from torch.utils.data import DataLoader, TensorDataset, random_split\n",
    "import copy"
   ],
   "metadata": {
    "collapsed": false,
    "pycharm": {
     "name": "#%%\n"
    }
   }
  },
  {
   "cell_type": "code",
   "execution_count": 515,
   "outputs": [
    {
     "name": "stdout",
     "output_type": "stream",
     "text": [
      "训练集标签：\n",
      "torch.Size([891])，类型：<class 'torch.Tensor'>\n",
      "训练集样本：\n",
      "torch.Size([891, 11])，类型：<class 'torch.Tensor'>\n",
      "测试集样本：\n",
      "torch.Size([418, 11])，类型：<class 'torch.Tensor'>\n"
     ]
    }
   ],
   "source": [
    "# 将数据转换为tensor类型\n",
    "train_labels = torch.from_numpy(train_labels).to(torch.long)\n",
    "print(f\"训练集标签：\\n{train_labels.size()}，类型：{type(train_labels)}\")\n",
    "\n",
    "train_inputs = torch.from_numpy(train_inputs).to(torch.float32)\n",
    "print(f\"训练集样本：\\n{train_inputs.size()}，类型：{type(train_inputs)}\")\n",
    "\n",
    "test_inputs = torch.from_numpy(test_inputs).to(torch.float32)\n",
    "print(f\"测试集样本：\\n{test_inputs.size()}，类型：{type(test_inputs)}\")"
   ],
   "metadata": {
    "collapsed": false,
    "pycharm": {
     "name": "#%%\n"
    }
   }
  },
  {
   "cell_type": "code",
   "execution_count": 522,
   "outputs": [
    {
     "name": "stdout",
     "output_type": "stream",
     "text": [
      "数据集大小：891\n",
      "训练集样本大小：624，验证集样本大小：267\n"
     ]
    }
   ],
   "source": [
    "# 将样本和标签构建成数据集，以便使用DataLoader来自动生成batch训练\n",
    "dataset = TensorDataset(train_inputs, train_labels)\n",
    "dataset_len = len(dataset)\n",
    "print(f\"数据集大小：{dataset_len}\")\n",
    "\n",
    "# 将数据集进一步划分为训练集和验证集(7:3，大概训练集624个，验证集267个)\n",
    "torch.manual_seed(1)\n",
    "train_dataset, valid_dataset = random_split(dataset, lengths=[624, 267])\n",
    "print(f\"训练集样本大小：{len(train_dataset)}，验证集样本大小：{len(valid_dataset)}\")"
   ],
   "metadata": {
    "collapsed": false,
    "pycharm": {
     "name": "#%%\n"
    }
   }
  },
  {
   "cell_type": "markdown",
   "source": [
    "## 4.构建模型"
   ],
   "metadata": {
    "collapsed": false,
    "pycharm": {
     "name": "#%% md\n"
    }
   }
  },
  {
   "cell_type": "code",
   "execution_count": 534,
   "outputs": [],
   "source": [
    "# 构建模型\n",
    "class Net(torch.nn.Module):\n",
    "    def __init__(self, input_size, output_size):\n",
    "        super().__init__()\n",
    "        self.input_size = input_size\n",
    "        self.output_size = output_size\n",
    "        self.net = torch.nn.Sequential(\n",
    "            torch.nn.Linear(self.input_size, 22),\n",
    "            torch.nn.Linear(22, 11),\n",
    "            torch.nn.Linear(11, self.output_size)\n",
    "        )\n",
    "\n",
    "    def forward(self, x):\n",
    "        return self.net(x)"
   ],
   "metadata": {
    "collapsed": false,
    "pycharm": {
     "name": "#%%\n"
    }
   }
  },
  {
   "cell_type": "markdown",
   "source": [
    "## 5.模型训练"
   ],
   "metadata": {
    "collapsed": false,
    "pycharm": {
     "name": "#%% md\n"
    }
   }
  },
  {
   "cell_type": "code",
   "execution_count": 524,
   "outputs": [],
   "source": [
    "from torch.utils.tensorboard import SummaryWriter\n",
    "writer = SummaryWriter('logs')"
   ],
   "metadata": {
    "collapsed": false,
    "pycharm": {
     "name": "#%%\n"
    }
   }
  },
  {
   "cell_type": "code",
   "execution_count": 545,
   "outputs": [
    {
     "name": "stdout",
     "output_type": "stream",
     "text": [
      "开始训练：\n",
      "\n",
      "Epoch [1/60] Loss=0.8377，训练集准确率：61.5385%，验证集准确率：68.1648%\n",
      "Epoch [2/60] Loss=0.6133，训练集准确率：65.7051%，验证集准确率：68.1648%\n",
      "Epoch [3/60] Loss=0.6045，训练集准确率：70.0321%，验证集准确率：64.7940%\n",
      "Epoch [4/60] Loss=0.6317，训练集准确率：69.5513%，验证集准确率：70.4120%\n",
      "Epoch [5/60] Loss=0.6186，训练集准确率：69.7115%，验证集准确率：68.1648%\n",
      "Epoch [6/60] Loss=0.4968，训练集准确率：71.9551%，验证集准确率：69.2884%\n",
      "Epoch [7/60] Loss=0.6490，训练集准确率：70.8333%，验证集准确率：71.9101%\n",
      "Epoch [8/60] Loss=0.5451，训练集准确率：73.5577%，验证集准确率：71.1610%\n",
      "Epoch [9/60] Loss=0.6080，训练集准确率：72.9167%，验证集准确率：73.0337%\n",
      "Epoch [10/60] Loss=0.4842，训练集准确率：76.1218%，验证集准确率：73.0337%\n",
      "Epoch [11/60] Loss=0.6466，训练集准确率：77.4038%，验证集准确率：71.9101%\n",
      "Epoch [12/60] Loss=0.4967，训练集准确率：75.9615%，验证集准确率：75.6554%\n",
      "Epoch [13/60] Loss=0.5702，训练集准确率：78.6859%，验证集准确率：74.9064%\n",
      "Epoch [14/60] Loss=0.4497，训练集准确率：80.7692%，验证集准确率：78.2772%\n",
      "Epoch [15/60] Loss=0.7115，训练集准确率：77.2436%，验证集准确率：76.4045%\n",
      "Epoch [16/60] Loss=0.6601，训练集准确率：75.8013%，验证集准确率：71.9101%\n",
      "Epoch [17/60] Loss=0.5875，训练集准确率：77.5641%，验证集准确率：79.0262%\n",
      "Epoch [18/60] Loss=0.5372，训练集准确率：78.2051%，验证集准确率：74.9064%\n",
      "Epoch [19/60] Loss=0.6965，训练集准确率：78.3654%，验证集准确率：78.2772%\n",
      "Epoch [20/60] Loss=0.4315，训练集准确率：79.8077%，验证集准确率：74.5318%\n",
      "Epoch [21/60] Loss=0.4878，训练集准确率：79.8077%，验证集准确率：76.4045%\n",
      "Epoch [22/60] Loss=0.6514，训练集准确率：80.7692%，验证集准确率：74.9064%\n",
      "Epoch [23/60] Loss=0.3930，训练集准确率：80.9295%，验证集准确率：76.7790%\n",
      "Epoch [24/60] Loss=0.4506，训练集准确率：77.5641%，验证集准确率：73.7828%\n",
      "Epoch [25/60] Loss=0.5283，训练集准确率：77.7244%，验证集准确率：77.1536%\n",
      "Epoch [26/60] Loss=0.5116，训练集准确率：79.6474%，验证集准确率：76.0300%\n",
      "Epoch [27/60] Loss=0.5478，训练集准确率：80.9295%，验证集准确率：78.6517%\n",
      "Epoch [28/60] Loss=0.3599，训练集准确率：80.9295%，验证集准确率：80.5243%\n",
      "Epoch [29/60] Loss=0.4638，训练集准确率：79.0064%，验证集准确率：79.4007%\n",
      "Epoch [30/60] Loss=0.3570，训练集准确率：80.6090%，验证集准确率：76.7790%\n",
      "Epoch [31/60] Loss=0.4585，训练集准确率：80.1282%，验证集准确率：75.6554%\n",
      "Epoch [32/60] Loss=0.4835，训练集准确率：80.7692%，验证集准确率：69.6629%\n",
      "Epoch [33/60] Loss=0.3462，训练集准确率：78.0449%，验证集准确率：67.7903%\n",
      "Epoch [34/60] Loss=0.5065，训练集准确率：81.0897%，验证集准确率：79.4007%\n",
      "Epoch [35/60] Loss=0.5116，训练集准确率：81.0897%，验证集准确率：74.9064%\n",
      "Epoch [36/60] Loss=0.3559，训练集准确率：80.1282%，验证集准确率：79.7753%\n",
      "Epoch [37/60] Loss=0.5628，训练集准确率：81.2500%，验证集准确率：69.6629%\n",
      "Epoch [38/60] Loss=0.3673，训练集准确率：79.6474%，验证集准确率：78.2772%\n",
      "Epoch [39/60] Loss=0.4729，训练集准确率：79.9679%，验证集准确率：74.5318%\n",
      "Epoch [40/60] Loss=0.3763，训练集准确率：79.6474%，验证集准确率：74.1573%\n",
      "Epoch [41/60] Loss=0.6138，训练集准确率：80.1282%，验证集准确率：73.0337%\n",
      "Epoch [42/60] Loss=0.4046，训练集准确率：79.3269%，验证集准确率：77.9026%\n",
      "Epoch [43/60] Loss=0.4135，训练集准确率：79.1667%，验证集准确率：79.4007%\n",
      "Epoch [44/60] Loss=0.5436，训练集准确率：78.8462%，验证集准确率：71.9101%\n",
      "Epoch [45/60] Loss=0.2921，训练集准确率：78.0449%，验证集准确率：77.1536%\n",
      "Epoch [46/60] Loss=0.5277，训练集准确率：79.9679%，验证集准确率：79.0262%\n",
      "Epoch [47/60] Loss=0.5430，训练集准确率：80.9295%，验证集准确率：80.5243%\n",
      "Epoch [48/60] Loss=0.5236，训练集准确率：80.9295%，验证集准确率：79.0262%\n",
      "Epoch [49/60] Loss=0.4676，训练集准确率：79.6474%，验证集准确率：76.7790%\n",
      "Epoch [50/60] Loss=0.2912，训练集准确率：80.9295%，验证集准确率：77.5281%\n",
      "Epoch [51/60] Loss=0.5503，训练集准确率：81.4103%，验证集准确率：73.0337%\n",
      "Epoch [52/60] Loss=0.4040，训练集准确率：78.0449%，验证集准确率：75.2809%\n",
      "Epoch [53/60] Loss=0.4859，训练集准确率：79.4872%，验证集准确率：78.6517%\n",
      "Epoch [54/60] Loss=0.6364，训练集准确率：80.2885%，验证集准确率：75.6554%\n",
      "Epoch [55/60] Loss=0.5804，训练集准确率：78.3654%，验证集准确率：73.7828%\n",
      "Epoch [56/60] Loss=0.5238，训练集准确率：78.8462%，验证集准确率：77.5281%\n",
      "Epoch [57/60] Loss=0.4795，训练集准确率：82.2115%，验证集准确率：75.6554%\n",
      "Epoch [58/60] Loss=0.7068，训练集准确率：81.4103%，验证集准确率：77.1536%\n",
      "Epoch [59/60] Loss=0.4291，训练集准确率：80.1282%，验证集准确率：75.6554%\n",
      "Epoch [60/60] Loss=0.4425，训练集准确率：81.7308%，验证集准确率：69.2884%\n"
     ]
    }
   ],
   "source": [
    "# 定义batch大小\n",
    "batch_size = 64\n",
    "train_dataset_loader = DataLoader(train_dataset, batch_size=batch_size, shuffle=True)\n",
    "valid_dataset_loader = DataLoader(valid_dataset, batch_size=batch_size*2)\n",
    "\n",
    "# 定义模型\n",
    "net = Net(11, 2)\n",
    "\n",
    "# 定义优化器\n",
    "optimizer = torch.optim.Adam(net.parameters(), lr=1e-2, weight_decay=1e-2)\n",
    "# 定义损失函数，分类问题使用交叉熵损失函数\n",
    "loss_fn = torch.nn.CrossEntropyLoss()\n",
    "\n",
    "# 定义迭代次数\n",
    "epochs = 60\n",
    "\n",
    "print(\"开始训练：\\n\")\n",
    "for i in range(epochs):\n",
    "    loss = 0\n",
    "    train_correct = 0\n",
    "    # 在训练集上训练，并计算准确率\n",
    "    for inputs, labels in train_dataset_loader:\n",
    "        optimizer.zero_grad()\n",
    "        # 前向传播计算输出\n",
    "        outputs = net(inputs)\n",
    "        # 找出输出中最大值的索引下标\n",
    "        _, idx = outputs.max(dim=1)\n",
    "        train_correct += (idx == labels).sum()\n",
    "        # 计算损失\n",
    "        loss = loss_fn(outputs, labels)\n",
    "        # 反向传播计算梯度\n",
    "        loss.backward()\n",
    "        # 优化参数\n",
    "        optimizer.step()\n",
    "\n",
    "    # 寻找出训练集准确率不低的模型\n",
    "    train_accuracy = train_correct / len(train_dataset)\n",
    "    if train_accuracy > 0.8:\n",
    "        state = {\n",
    "            'accuracy': train_accuracy * 100,\n",
    "            'state_dict': net.state_dict(),\n",
    "            'optimizer': optimizer.state_dict()\n",
    "        }\n",
    "        torch.save(state, f\"model_epoch{i+1}_{train_accuracy}.pth\")\n",
    "\n",
    "    writer.add_scalar(\"训练集准确率\", train_accuracy, i+1)\n",
    "    print(\"Epoch [%d/%d] Loss=%.4f\" %(i+1, epochs, loss.item()), end='')\n",
    "    print(\"，训练集准确率：%.4f%%\" %(train_accuracy * 100), end='')\n",
    "\n",
    "    # 在验证集上计算准确率\n",
    "    valid_correct = 0\n",
    "    for inputs, labels in valid_dataset_loader:\n",
    "        outputs = net(inputs)\n",
    "        _, idx = outputs.max(dim=1)\n",
    "        valid_correct += (idx == labels).sum()\n",
    "\n",
    "    valid_accuracy = valid_correct / len(valid_dataset)\n",
    "    writer.add_scalar(\"验证集准确率\", valid_accuracy, i+1)\n",
    "    print(\"，验证集准确率：%.4f%%\" %(valid_accuracy*100))"
   ],
   "metadata": {
    "collapsed": false,
    "pycharm": {
     "name": "#%%\n"
    }
   }
  },
  {
   "cell_type": "markdown",
   "source": [
    "# 6.预测数据"
   ],
   "metadata": {
    "collapsed": false,
    "pycharm": {
     "name": "#%% md\n"
    }
   }
  },
  {
   "cell_type": "code",
   "execution_count": 573,
   "outputs": [
    {
     "name": "stdout",
     "output_type": "stream",
     "text": [
      "测试集大小：418，测试集类型：<class 'torch.Tensor'>\n"
     ]
    }
   ],
   "source": [
    "print(f\"测试集大小：{len(test_inputs)}，测试集类型：{type(test_inputs)}\")"
   ],
   "metadata": {
    "collapsed": false,
    "pycharm": {
     "name": "#%%\n"
    }
   }
  },
  {
   "cell_type": "code",
   "execution_count": 579,
   "outputs": [
    {
     "name": "stdout",
     "output_type": "stream",
     "text": [
      "输出数据的大小：torch.Size([418, 2])\n"
     ]
    }
   ],
   "source": [
    "# 创建模型\n",
    "net = Net(11, 2)\n",
    "# 加载训练好的模型\n",
    "state = torch.load(\"model_epoch28_0.8092948794364929.pth\")\n",
    "net.load_state_dict(state['state_dict'])\n",
    "# 前向计算输出\n",
    "outputs = net(test_inputs)\n",
    "print(f\"输出数据的大小：{outputs.size()}\")"
   ],
   "metadata": {
    "collapsed": false,
    "pycharm": {
     "name": "#%%\n"
    }
   }
  },
  {
   "cell_type": "code",
   "execution_count": 580,
   "outputs": [
    {
     "name": "stdout",
     "output_type": "stream",
     "text": [
      "<class 'pandas.core.frame.DataFrame'>\n",
      "RangeIndex: 418 entries, 0 to 417\n",
      "Data columns (total 11 columns):\n",
      " #   Column       Non-Null Count  Dtype  \n",
      "---  ------       --------------  -----  \n",
      " 0   PassengerId  418 non-null    int64  \n",
      " 1   Pclass       418 non-null    int64  \n",
      " 2   Name         418 non-null    object \n",
      " 3   Sex          418 non-null    object \n",
      " 4   Age          332 non-null    float64\n",
      " 5   SibSp        418 non-null    int64  \n",
      " 6   Parch        418 non-null    int64  \n",
      " 7   Ticket       418 non-null    object \n",
      " 8   Fare         417 non-null    float64\n",
      " 9   Cabin        91 non-null     object \n",
      " 10  Embarked     418 non-null    object \n",
      "dtypes: float64(2), int64(4), object(5)\n",
      "memory usage: 36.0+ KB\n",
      "读取的测试文件：\n",
      "None\n"
     ]
    }
   ],
   "source": [
    "print(f\"读取的测试文件：\\n{test_data.info()}\")"
   ],
   "metadata": {
    "collapsed": false,
    "pycharm": {
     "name": "#%%\n"
    }
   }
  },
  {
   "cell_type": "code",
   "execution_count": 581,
   "outputs": [
    {
     "name": "stdout",
     "output_type": "stream",
     "text": [
      "预测结果的大小：(418,)， 预测数据：\n",
      "[0 0 0 0 1 0 1 0 1 0 0 0 1 0 1 1 0 0 1 1 0 0 1 0 1 0 1 0 0 0 0 0 0 0 0 0 1\n",
      " 1 0 0 0 0 0 1 1 0 0 0 1 1 0 0 1 1 0 0 0 0 0 1 0 0 0 1 0 1 1 0 0 0 1 0 1 0\n",
      " 1 0 0 1 0 1 0 0 0 0 0 0 1 1 1 0 1 0 1 0 1 0 1 0 1 0 1 0 0 0 1 0 0 0 0 0 0\n",
      " 1 1 1 1 0 0 1 0 1 1 0 1 0 0 1 0 1 0 0 0 0 1 0 0 0 0 0 1 0 0 1 0 0 0 0 0 0\n",
      " 0 0 1 0 0 1 0 0 1 1 0 1 1 0 1 0 0 1 0 0 1 1 0 0 0 0 0 1 1 0 1 1 0 0 1 0 1\n",
      " 0 1 0 0 0 0 0 0 0 0 0 0 1 0 1 1 0 0 1 0 0 1 0 1 0 0 0 0 1 0 0 1 0 1 0 1 0\n",
      " 1 0 1 1 0 1 0 0 0 1 0 0 0 0 0 0 1 1 1 1 0 0 0 0 1 0 1 1 1 0 0 0 0 0 0 0 1\n",
      " 0 0 0 1 1 0 0 0 0 1 0 0 0 1 1 0 1 0 0 0 0 1 0 1 1 1 0 0 0 0 0 0 1 0 0 0 0\n",
      " 1 0 0 0 0 0 0 0 1 1 0 0 0 0 0 0 0 1 1 1 0 0 0 0 0 0 0 0 1 0 1 0 0 0 1 0 0\n",
      " 1 0 0 0 0 0 0 0 0 0 1 0 1 0 1 0 1 1 0 0 0 1 0 1 0 0 1 0 1 1 0 1 0 0 1 1 0\n",
      " 0 1 0 0 1 1 1 0 0 0 0 0 1 1 0 1 0 0 0 0 0 1 0 0 0 1 0 1 0 0 1 0 1 0 0 0 0\n",
      " 0 1 1 1 1 1 0 1 0 0 0]\n"
     ]
    }
   ],
   "source": [
    "# 从输出数据中，找出每一行的最大值索引，即对应的预测数据，Survived是否生还\n",
    "_, predict = outputs.max(dim=1)\n",
    "# 转换为numpy数据类型\n",
    "predict = predict.numpy()\n",
    "print(f\"预测结果的大小：{predict.shape}， 预测数据：\\n{predict}\")"
   ],
   "metadata": {
    "collapsed": false,
    "pycharm": {
     "name": "#%%\n"
    }
   }
  },
  {
   "cell_type": "code",
   "execution_count": 582,
   "outputs": [
    {
     "name": "stdout",
     "output_type": "stream",
     "text": [
      "id数据的大小：(418,), 数据：\n",
      "[ 892  893  894  895  896  897  898  899  900  901  902  903  904  905\n",
      "  906  907  908  909  910  911  912  913  914  915  916  917  918  919\n",
      "  920  921  922  923  924  925  926  927  928  929  930  931  932  933\n",
      "  934  935  936  937  938  939  940  941  942  943  944  945  946  947\n",
      "  948  949  950  951  952  953  954  955  956  957  958  959  960  961\n",
      "  962  963  964  965  966  967  968  969  970  971  972  973  974  975\n",
      "  976  977  978  979  980  981  982  983  984  985  986  987  988  989\n",
      "  990  991  992  993  994  995  996  997  998  999 1000 1001 1002 1003\n",
      " 1004 1005 1006 1007 1008 1009 1010 1011 1012 1013 1014 1015 1016 1017\n",
      " 1018 1019 1020 1021 1022 1023 1024 1025 1026 1027 1028 1029 1030 1031\n",
      " 1032 1033 1034 1035 1036 1037 1038 1039 1040 1041 1042 1043 1044 1045\n",
      " 1046 1047 1048 1049 1050 1051 1052 1053 1054 1055 1056 1057 1058 1059\n",
      " 1060 1061 1062 1063 1064 1065 1066 1067 1068 1069 1070 1071 1072 1073\n",
      " 1074 1075 1076 1077 1078 1079 1080 1081 1082 1083 1084 1085 1086 1087\n",
      " 1088 1089 1090 1091 1092 1093 1094 1095 1096 1097 1098 1099 1100 1101\n",
      " 1102 1103 1104 1105 1106 1107 1108 1109 1110 1111 1112 1113 1114 1115\n",
      " 1116 1117 1118 1119 1120 1121 1122 1123 1124 1125 1126 1127 1128 1129\n",
      " 1130 1131 1132 1133 1134 1135 1136 1137 1138 1139 1140 1141 1142 1143\n",
      " 1144 1145 1146 1147 1148 1149 1150 1151 1152 1153 1154 1155 1156 1157\n",
      " 1158 1159 1160 1161 1162 1163 1164 1165 1166 1167 1168 1169 1170 1171\n",
      " 1172 1173 1174 1175 1176 1177 1178 1179 1180 1181 1182 1183 1184 1185\n",
      " 1186 1187 1188 1189 1190 1191 1192 1193 1194 1195 1196 1197 1198 1199\n",
      " 1200 1201 1202 1203 1204 1205 1206 1207 1208 1209 1210 1211 1212 1213\n",
      " 1214 1215 1216 1217 1218 1219 1220 1221 1222 1223 1224 1225 1226 1227\n",
      " 1228 1229 1230 1231 1232 1233 1234 1235 1236 1237 1238 1239 1240 1241\n",
      " 1242 1243 1244 1245 1246 1247 1248 1249 1250 1251 1252 1253 1254 1255\n",
      " 1256 1257 1258 1259 1260 1261 1262 1263 1264 1265 1266 1267 1268 1269\n",
      " 1270 1271 1272 1273 1274 1275 1276 1277 1278 1279 1280 1281 1282 1283\n",
      " 1284 1285 1286 1287 1288 1289 1290 1291 1292 1293 1294 1295 1296 1297\n",
      " 1298 1299 1300 1301 1302 1303 1304 1305 1306 1307 1308 1309]\n"
     ]
    }
   ],
   "source": [
    "# 从测试csv文件中取出PassengerId，并转换为numpy数据类型\n",
    "passenger_id = test_data['PassengerId'].to_numpy()\n",
    "print(f\"id数据的大小：{passenger_id.shape}, 数据：\\n{passenger_id}\")"
   ],
   "metadata": {
    "collapsed": false,
    "pycharm": {
     "name": "#%%\n"
    }
   }
  },
  {
   "cell_type": "code",
   "execution_count": 583,
   "outputs": [],
   "source": [
    "# 将PassengerId与预测结果，两两组合，构建成DataFrame类型，再写入到csv文件中\n",
    "data = zip(passenger_id, predict)\n",
    "result = pd.DataFrame(data=data, columns=['PassengerId', 'Survived'])\n",
    "result.to_csv(SUBMISSION_PATH, index=None)"
   ],
   "metadata": {
    "collapsed": false,
    "pycharm": {
     "name": "#%%\n"
    }
   }
  },
  {
   "cell_type": "markdown",
   "source": [
    "## 在kaggle上提交了一次，不出所料，结果和训练集准确率差不多，成绩为0.765，但毕竟是本人的第一次在kaggle上做题，心里还是满足的，熟悉了kaggle的一整套流程"
   ],
   "metadata": {
    "collapsed": false,
    "pycharm": {
     "name": "#%% md\n"
    }
   }
  }
 ],
 "metadata": {
  "kernelspec": {
   "display_name": "Python 3 (ipykernel)",
   "language": "python",
   "name": "python3"
  },
  "language_info": {
   "codemirror_mode": {
    "name": "ipython",
    "version": 3
   },
   "file_extension": ".py",
   "mimetype": "text/x-python",
   "name": "python",
   "nbconvert_exporter": "python",
   "pygments_lexer": "ipython3",
   "version": "3.8.13"
  }
 },
 "nbformat": 4,
 "nbformat_minor": 1
}